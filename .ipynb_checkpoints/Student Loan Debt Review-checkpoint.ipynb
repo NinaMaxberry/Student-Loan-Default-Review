{
 "cells": [
  {
   "cell_type": "code",
   "execution_count": 569,
   "metadata": {},
   "outputs": [],
   "source": [
    "import csv\n",
    "import sqlite3\n",
    "import pandas as pd\n",
    "import numpy as np"
   ]
  },
  {
   "cell_type": "code",
   "execution_count": 570,
   "metadata": {},
   "outputs": [],
   "source": [
    "conn = sqlite3.connect('Student_Loan_Debt.sqlite')\n",
    "cursor = conn.cursor()"
   ]
  },
  {
   "cell_type": "code",
   "execution_count": 571,
   "metadata": {},
   "outputs": [
    {
     "name": "stdout",
     "output_type": "stream",
     "text": [
      "Opened database successfully\n"
     ]
    }
   ],
   "source": [
    "print(\"Opened database successfully\")"
   ]
  },
  {
   "cell_type": "code",
   "execution_count": 572,
   "metadata": {},
   "outputs": [],
   "source": [
    "student_debt = pd.read_csv(r\"C:\\Users\\nmaxb\\Student Loan Project\\Most-Recent-Cohorts-All-Data-Elements.csv\")"
   ]
  },
  {
   "cell_type": "code",
   "execution_count": 573,
   "metadata": {},
   "outputs": [],
   "source": [
    "## print(student_debt)"
   ]
  },
  {
   "cell_type": "code",
   "execution_count": null,
   "metadata": {},
   "outputs": [],
   "source": []
  },
  {
   "cell_type": "code",
   "execution_count": null,
   "metadata": {},
   "outputs": [],
   "source": []
  },
  {
   "cell_type": "code",
   "execution_count": 574,
   "metadata": {},
   "outputs": [
    {
     "data": {
      "text/plain": [
       "<sqlite3.Cursor at 0x1e9195df490>"
      ]
     },
     "execution_count": 574,
     "metadata": {},
     "output_type": "execute_result"
    }
   ],
   "source": [
    "cursor.execute('''CREATE TABLE IF NOT EXISTS Institution\n",
    "         (UNITID INT PRIMARY KEY NOT NULL,\n",
    "         STABBR TEXT  NOT NULL,\n",
    "         UG  TEXT  NOT NULL);''')"
   ]
  },
  {
   "cell_type": "code",
   "execution_count": 575,
   "metadata": {},
   "outputs": [
    {
     "ename": "ProgrammingError",
     "evalue": "Incorrect number of bindings supplied. The current statement uses 3, and there are 0 supplied.",
     "output_type": "error",
     "traceback": [
      "\u001b[1;31m---------------------------------------------------------------------------\u001b[0m",
      "\u001b[1;31mProgrammingError\u001b[0m                          Traceback (most recent call last)",
      "\u001b[1;32m<ipython-input-575-4a3c5eb9fe36>\u001b[0m in \u001b[0;36m<module>\u001b[1;34m\u001b[0m\n\u001b[1;32m----> 1\u001b[1;33m \u001b[0mcursor\u001b[0m\u001b[1;33m.\u001b[0m\u001b[0mexecute\u001b[0m\u001b[1;33m(\u001b[0m\u001b[1;34m'''INSERT INTO Institution(UNITID, 'STABBR', 'UG') VALUES (?, ?, ?);'''\u001b[0m\u001b[1;33m)\u001b[0m\u001b[1;33m\u001b[0m\u001b[1;33m\u001b[0m\u001b[0m\n\u001b[0m",
      "\u001b[1;31mProgrammingError\u001b[0m: Incorrect number of bindings supplied. The current statement uses 3, and there are 0 supplied."
     ]
    }
   ],
   "source": [
    "cursor.execute('''INSERT INTO Institution(UNITID, 'STABBR', 'UG') VALUES (?, ?, ?);''')"
   ]
  },
  {
   "cell_type": "code",
   "execution_count": null,
   "metadata": {},
   "outputs": [],
   "source": [
    "conn.commit()"
   ]
  },
  {
   "cell_type": "code",
   "execution_count": null,
   "metadata": {},
   "outputs": [],
   "source": [
    "cursor.execute('''CREATE TABLE IF NOT EXISTS Demographics\n",
    "        (UNITID INT PRIMARY KEY NOT NULL,\n",
    "        RET_FT4 FLOAT NOT NULL,\n",
    "        REFT_FTL4  FLOAT  NOT NULL,\n",
    "        CDR3  FLOAT  NOT NULL,\n",
    "        RPY_1YR   FLOAT  NOT NULL,\n",
    "        RPY_3YR   FLOAT  NOT NULL);''')"
   ]
  },
  {
   "cell_type": "code",
   "execution_count": null,
   "metadata": {},
   "outputs": [],
   "source": [
    "conn.commit()"
   ]
  },
  {
   "cell_type": "code",
   "execution_count": null,
   "metadata": {},
   "outputs": [],
   "source": [
    "cursor.execute('''CREATE TABLE IF NOT EXISTS Financial_Aid\n",
    "        (UNITID  INT PRIMARY KEY NOT NULL,\n",
    "        APPL_SCH_PCT_GE  FLOAT  NOT NULL,\n",
    "        PCTFLOAN  FLOAT  NOT NULL);''')"
   ]
  },
  {
   "cell_type": "code",
   "execution_count": null,
   "metadata": {},
   "outputs": [],
   "source": [
    "conn.commit()"
   ]
  },
  {
   "cell_type": "code",
   "execution_count": null,
   "metadata": {},
   "outputs": [],
   "source": [
    "# inputfile = r'C:\\Users\\nmaxb\\Student Loan Project\\Most-Recent-Cohorts-All-Data-Elements.csv'\n",
    "# tab_data_col_list = [\"UNITID\", \"STABBR\", \"UG\"]\n",
    "\n",
    "# with open(inputfile, \"rt\", encoding ='utf-8') as f:\n",
    "#    reader = csv.reader(f)\n",
    "#    for row in reader:\n",
    "#        tab_data_col_list.append(row)"
   ]
  }
 ],
 "metadata": {
  "kernelspec": {
   "display_name": "Python 3",
   "language": "python",
   "name": "python3"
  },
  "language_info": {
   "codemirror_mode": {
    "name": "ipython",
    "version": 3
   },
   "file_extension": ".py",
   "mimetype": "text/x-python",
   "name": "python",
   "nbconvert_exporter": "python",
   "pygments_lexer": "ipython3",
   "version": "3.7.3"
  }
 },
 "nbformat": 4,
 "nbformat_minor": 2
}
