{
 "cells": [
  {
   "cell_type": "markdown",
   "metadata": {},
   "source": [
    "## <center>Review of the National Student Loan Default Rate</center>\n",
    "### The College Scorecard is issued by the Department of Education is often used to assist students in selecting a university/college (aka cohort).  The cohorts are divided into regions to further assist the student with their location preferences.\n",
    "\n",
    "### In this review, we have selected four components to determine if there is one region that answers positive to all the questions noted below.\n",
    "\n",
    "### The questions are:\n",
    "- ### Which region has the highest loan default rate?\n",
    "- ### Which region has the highest average percentage of federal student loans issued?\n",
    "- ### What is the average student loan debt per region at separation from the cohort?\n",
    "- ### Which region has the largest number of cohorts?"
   ]
  },
  {
   "cell_type": "code",
   "execution_count": 348,
   "metadata": {},
   "outputs": [],
   "source": [
    "import csv\n",
    "import sqlite3\n",
    "import pandas as pd\n",
    "import numpy as np\n",
    "import sys\n",
    "import matplotlib.pyplot as plt"
   ]
  },
  {
   "cell_type": "code",
   "execution_count": 349,
   "metadata": {},
   "outputs": [
    {
     "name": "stdout",
     "output_type": "stream",
     "text": [
      "Opened database successfully\n"
     ]
    }
   ],
   "source": [
    "conn = sqlite3.connect(r'Student Loan Project')\n",
    "cursor = conn.cursor()\n",
    "print(\"Opened database successfully\")"
   ]
  },
  {
   "cell_type": "code",
   "execution_count": 350,
   "metadata": {},
   "outputs": [],
   "source": [
    "AllData = pd.read_csv(r'Most-Recent-Cohorts-All-Data-Elements.csv')"
   ]
  },
  {
   "cell_type": "code",
   "execution_count": 351,
   "metadata": {},
   "outputs": [
    {
     "name": "stdout",
     "output_type": "stream",
     "text": [
      "   UNITID                               INSTNM STABBR  REGION     UGDS  \\\n",
      "0  100654             Alabama A & M University     AL       5   4824.0   \n",
      "1  100663  University of Alabama at Birmingham     AL       5  12866.0   \n",
      "2  100690                   Amridge University     AL       5    322.0   \n",
      "\n",
      "   PCTFLOAN   CDR3  DEBT_MDN  \n",
      "0    0.7697  0.198   13246.0  \n",
      "1    0.5207  0.059   14979.5  \n",
      "2    0.8741  0.128   10430.0  \n"
     ]
    }
   ],
   "source": [
    "#test\n",
    "print(AllData[0:3])"
   ]
  },
  {
   "cell_type": "code",
   "execution_count": 352,
   "metadata": {},
   "outputs": [
    {
     "data": {
      "text/plain": [
       "UNITID        int64\n",
       "INSTNM       object\n",
       "STABBR       object\n",
       "REGION        int64\n",
       "UGDS        float64\n",
       "PCTFLOAN    float64\n",
       "CDR3        float64\n",
       "DEBT_MDN    float64\n",
       "dtype: object"
      ]
     },
     "execution_count": 352,
     "metadata": {},
     "output_type": "execute_result"
    }
   ],
   "source": [
    "AllData.dtypes"
   ]
  },
  {
   "cell_type": "code",
   "execution_count": 353,
   "metadata": {},
   "outputs": [],
   "source": [
    "#conn.commit()"
   ]
  },
  {
   "cell_type": "code",
   "execution_count": 354,
   "metadata": {},
   "outputs": [
    {
     "data": {
      "text/plain": [
       "Index(['UNITID', 'INSTNM', 'STABBR', 'REGION', 'UGDS', 'PCTFLOAN', 'CDR3',\n",
       "       'DEBT_MDN'],\n",
       "      dtype='object')"
      ]
     },
     "execution_count": 354,
     "metadata": {},
     "output_type": "execute_result"
    }
   ],
   "source": [
    "AllData.columns"
   ]
  },
  {
   "cell_type": "code",
   "execution_count": 355,
   "metadata": {},
   "outputs": [],
   "source": [
    "# Rename some columns\n",
    "AllData.columns = ['UNITID', 'NAME', 'STATE', 'REGION', 'UNDERGRADS', 'PCTFLOAN', 'RPYMT_RATE_YR3', 'AVG_LOAN_DEBT']"
   ]
  },
  {
   "cell_type": "code",
   "execution_count": 356,
   "metadata": {},
   "outputs": [
    {
     "data": {
      "text/html": [
       "<div>\n",
       "<style scoped>\n",
       "    .dataframe tbody tr th:only-of-type {\n",
       "        vertical-align: middle;\n",
       "    }\n",
       "\n",
       "    .dataframe tbody tr th {\n",
       "        vertical-align: top;\n",
       "    }\n",
       "\n",
       "    .dataframe thead th {\n",
       "        text-align: right;\n",
       "    }\n",
       "</style>\n",
       "<table border=\"1\" class=\"dataframe\">\n",
       "  <thead>\n",
       "    <tr style=\"text-align: right;\">\n",
       "      <th></th>\n",
       "      <th>UNITID</th>\n",
       "      <th>NAME</th>\n",
       "      <th>STATE</th>\n",
       "      <th>REGION</th>\n",
       "      <th>UNDERGRADS</th>\n",
       "      <th>PCTFLOAN</th>\n",
       "      <th>RPYMT_RATE_YR3</th>\n",
       "      <th>AVG_LOAN_DEBT</th>\n",
       "    </tr>\n",
       "  </thead>\n",
       "  <tbody>\n",
       "    <tr>\n",
       "      <th>0</th>\n",
       "      <td>100654</td>\n",
       "      <td>Alabama A &amp; M University</td>\n",
       "      <td>AL</td>\n",
       "      <td>5</td>\n",
       "      <td>4824.0</td>\n",
       "      <td>0.7697</td>\n",
       "      <td>0.198</td>\n",
       "      <td>13246.0</td>\n",
       "    </tr>\n",
       "    <tr>\n",
       "      <th>1</th>\n",
       "      <td>100663</td>\n",
       "      <td>University of Alabama at Birmingham</td>\n",
       "      <td>AL</td>\n",
       "      <td>5</td>\n",
       "      <td>12866.0</td>\n",
       "      <td>0.5207</td>\n",
       "      <td>0.059</td>\n",
       "      <td>14979.5</td>\n",
       "    </tr>\n",
       "    <tr>\n",
       "      <th>2</th>\n",
       "      <td>100690</td>\n",
       "      <td>Amridge University</td>\n",
       "      <td>AL</td>\n",
       "      <td>5</td>\n",
       "      <td>322.0</td>\n",
       "      <td>0.8741</td>\n",
       "      <td>0.128</td>\n",
       "      <td>10430.0</td>\n",
       "    </tr>\n",
       "    <tr>\n",
       "      <th>3</th>\n",
       "      <td>100706</td>\n",
       "      <td>University of Alabama in Huntsville</td>\n",
       "      <td>AL</td>\n",
       "      <td>5</td>\n",
       "      <td>6917.0</td>\n",
       "      <td>0.4278</td>\n",
       "      <td>0.074</td>\n",
       "      <td>13522.0</td>\n",
       "    </tr>\n",
       "    <tr>\n",
       "      <th>4</th>\n",
       "      <td>100724</td>\n",
       "      <td>Alabama State University</td>\n",
       "      <td>AL</td>\n",
       "      <td>5</td>\n",
       "      <td>4189.0</td>\n",
       "      <td>0.7690</td>\n",
       "      <td>0.211</td>\n",
       "      <td>15738.0</td>\n",
       "    </tr>\n",
       "  </tbody>\n",
       "</table>\n",
       "</div>"
      ],
      "text/plain": [
       "   UNITID                                 NAME STATE  REGION  UNDERGRADS  \\\n",
       "0  100654             Alabama A & M University    AL       5      4824.0   \n",
       "1  100663  University of Alabama at Birmingham    AL       5     12866.0   \n",
       "2  100690                   Amridge University    AL       5       322.0   \n",
       "3  100706  University of Alabama in Huntsville    AL       5      6917.0   \n",
       "4  100724             Alabama State University    AL       5      4189.0   \n",
       "\n",
       "   PCTFLOAN  RPYMT_RATE_YR3  AVG_LOAN_DEBT  \n",
       "0    0.7697           0.198        13246.0  \n",
       "1    0.5207           0.059        14979.5  \n",
       "2    0.8741           0.128        10430.0  \n",
       "3    0.4278           0.074        13522.0  \n",
       "4    0.7690           0.211        15738.0  "
      ]
     },
     "execution_count": 356,
     "metadata": {},
     "output_type": "execute_result"
    }
   ],
   "source": [
    "# To ensure columns were changed\n",
    "AllData.head()"
   ]
  },
  {
   "cell_type": "code",
   "execution_count": 357,
   "metadata": {},
   "outputs": [
    {
     "data": {
      "text/html": [
       "<div>\n",
       "<style scoped>\n",
       "    .dataframe tbody tr th:only-of-type {\n",
       "        vertical-align: middle;\n",
       "    }\n",
       "\n",
       "    .dataframe tbody tr th {\n",
       "        vertical-align: top;\n",
       "    }\n",
       "\n",
       "    .dataframe thead th {\n",
       "        text-align: right;\n",
       "    }\n",
       "</style>\n",
       "<table border=\"1\" class=\"dataframe\">\n",
       "  <thead>\n",
       "    <tr style=\"text-align: right;\">\n",
       "      <th></th>\n",
       "      <th>UNITID</th>\n",
       "      <th>NAME</th>\n",
       "      <th>STATE</th>\n",
       "      <th>REGION</th>\n",
       "      <th>UNDERGRADS</th>\n",
       "      <th>PCTFLOAN</th>\n",
       "      <th>RPYMT_RATE_YR3</th>\n",
       "      <th>AVG_LOAN_DEBT</th>\n",
       "    </tr>\n",
       "  </thead>\n",
       "  <tbody>\n",
       "    <tr>\n",
       "      <th>0</th>\n",
       "      <td>100654</td>\n",
       "      <td>Alabama A &amp; M University</td>\n",
       "      <td>AL</td>\n",
       "      <td>5</td>\n",
       "      <td>4824.0</td>\n",
       "      <td>0.7697</td>\n",
       "      <td>0.198</td>\n",
       "      <td>13246.0</td>\n",
       "    </tr>\n",
       "    <tr>\n",
       "      <th>1</th>\n",
       "      <td>100663</td>\n",
       "      <td>University of Alabama at Birmingham</td>\n",
       "      <td>AL</td>\n",
       "      <td>5</td>\n",
       "      <td>12866.0</td>\n",
       "      <td>0.5207</td>\n",
       "      <td>0.059</td>\n",
       "      <td>14979.5</td>\n",
       "    </tr>\n",
       "    <tr>\n",
       "      <th>2</th>\n",
       "      <td>100690</td>\n",
       "      <td>Amridge University</td>\n",
       "      <td>AL</td>\n",
       "      <td>5</td>\n",
       "      <td>322.0</td>\n",
       "      <td>0.8741</td>\n",
       "      <td>0.128</td>\n",
       "      <td>10430.0</td>\n",
       "    </tr>\n",
       "    <tr>\n",
       "      <th>3</th>\n",
       "      <td>100706</td>\n",
       "      <td>University of Alabama in Huntsville</td>\n",
       "      <td>AL</td>\n",
       "      <td>5</td>\n",
       "      <td>6917.0</td>\n",
       "      <td>0.4278</td>\n",
       "      <td>0.074</td>\n",
       "      <td>13522.0</td>\n",
       "    </tr>\n",
       "    <tr>\n",
       "      <th>4</th>\n",
       "      <td>100724</td>\n",
       "      <td>Alabama State University</td>\n",
       "      <td>AL</td>\n",
       "      <td>5</td>\n",
       "      <td>4189.0</td>\n",
       "      <td>0.7690</td>\n",
       "      <td>0.211</td>\n",
       "      <td>15738.0</td>\n",
       "    </tr>\n",
       "  </tbody>\n",
       "</table>\n",
       "</div>"
      ],
      "text/plain": [
       "   UNITID                                 NAME STATE  REGION  UNDERGRADS  \\\n",
       "0  100654             Alabama A & M University    AL       5      4824.0   \n",
       "1  100663  University of Alabama at Birmingham    AL       5     12866.0   \n",
       "2  100690                   Amridge University    AL       5       322.0   \n",
       "3  100706  University of Alabama in Huntsville    AL       5      6917.0   \n",
       "4  100724             Alabama State University    AL       5      4189.0   \n",
       "\n",
       "   PCTFLOAN  RPYMT_RATE_YR3  AVG_LOAN_DEBT  \n",
       "0    0.7697           0.198        13246.0  \n",
       "1    0.5207           0.059        14979.5  \n",
       "2    0.8741           0.128        10430.0  \n",
       "3    0.4278           0.074        13522.0  \n",
       "4    0.7690           0.211        15738.0  "
      ]
     },
     "execution_count": 357,
     "metadata": {},
     "output_type": "execute_result"
    }
   ],
   "source": [
    "# round columns to three decimal points\n",
    "AllData.round({\"PCTFLOAN\":3})\n",
    "AllData[0:5]"
   ]
  },
  {
   "cell_type": "code",
   "execution_count": 358,
   "metadata": {},
   "outputs": [],
   "source": [
    "AllData.to_sql('educaters', conn, if_exists = \"replace\")"
   ]
  },
  {
   "cell_type": "markdown",
   "metadata": {},
   "source": [
    "### Regions divided by US states and territories\n",
    "- Region 1 = CT, MA, ME, NH, RI, VT\n",
    "- Region 2 = DC, DE, MD, NJ, NY, PA\n",
    "- Region 3 = IL, IN, MI, OH, WI \n",
    "- Region 4 = IA, KS, MN, MO, ND, NE, SD \n",
    "- Region 5 = AL, AR, FL, GA, KY, LA, MS, NC, SC, TN, VA, WV\n",
    "- Region 6 = AZ, NM, OK, TX\n",
    "- Region 7 = CO, ID, MT, UT, WY\n",
    "- Region 8 = AK, CA, HI, NV, OR, WA\n",
    "- Region 9 = AS, FM, GU, MH, MP, PR, PW, VI (Territories)"
   ]
  },
  {
   "cell_type": "markdown",
   "metadata": {},
   "source": [
    "### Number of Cohorts per Region"
   ]
  },
  {
   "cell_type": "code",
   "execution_count": 359,
   "metadata": {},
   "outputs": [
    {
     "name": "stdout",
     "output_type": "stream",
     "text": [
      "389\n",
      "1121\n",
      "1042\n",
      "583\n",
      "1778\n",
      "740\n",
      "267\n",
      "991\n",
      "147\n"
     ]
    }
   ],
   "source": [
    "def my_regct(AllData):\n",
    "    for x in AllData:\n",
    "       print(x) \n",
    "        \n",
    "results = pd.Series(AllData.groupby(['REGION'])['UNITID'].count())\n",
    "\n",
    "my_regct(results)\n"
   ]
  },
  {
   "cell_type": "code",
   "execution_count": 360,
   "metadata": {},
   "outputs": [
    {
     "data": {
      "text/plain": [
       "Text(0, 0.5, 'Cohorts per Region')"
      ]
     },
     "execution_count": 360,
     "metadata": {},
     "output_type": "execute_result"
    },
    {
     "data": {
      "image/png": "[encoded data removed]",
      "text/plain": [
       "<Figure size 432x288 with 1 Axes>"
      ]
     },
     "metadata": {
      "needs_background": "light"
     },
     "output_type": "display_data"
    }
   ],
   "source": [
    "results.plot('bar')\n",
    "plt.ylabel('Cohorts per Region')"
   ]
  },
  {
   "cell_type": "markdown",
   "metadata": {},
   "source": [
    "### The Average Highest Student Loan Default Rate Per Region"
   ]
  },
  {
   "cell_type": "code",
   "execution_count": 361,
   "metadata": {},
   "outputs": [
    {
     "name": "stdout",
     "output_type": "stream",
     "text": [
      "   REGION  AVG(RPYMT_RATE_YR3)\n",
      "0       1             0.089253\n",
      "1       2             0.096621\n",
      "2       3             0.112645\n",
      "3       4             0.100420\n",
      "4       5             0.123372\n",
      "5       6             0.137046\n",
      "6       7             0.114050\n",
      "7       8             0.107760\n",
      "8       9             0.126451\n"
     ]
    }
   ],
   "source": [
    "default_rate = pd.read_sql_query('''\n",
    "    SELECT REGION, AVG(RPYMT_RATE_YR3)\n",
    "    FROM educaters\n",
    "    GROUP BY REGION\n",
    "    ORDER BY REGION ASC;\n",
    "    ''', conn)\n",
    "\n",
    "print(default_rate)\n",
    "\n"
   ]
  },
  {
   "cell_type": "markdown",
   "metadata": {},
   "source": [
    "### The Mean of Federal Loans Issued Per Region"
   ]
  },
  {
   "cell_type": "code",
   "execution_count": 362,
   "metadata": {},
   "outputs": [
    {
     "name": "stdout",
     "output_type": "stream",
     "text": [
      "0.537\n",
      "0.528\n",
      "0.543\n",
      "0.529\n",
      "0.481\n",
      "0.445\n",
      "0.458\n",
      "0.419\n",
      "0.141\n"
     ]
    }
   ],
   "source": [
    "def my_pctloan(AllData):\n",
    "    for x in AllData:\n",
    "       print(x) \n",
    "AllData.groupby(['REGION'])['PCTFLOAN'].mean()    \n",
    "pctresults = pd.Series(data=AllData.groupby(['REGION'])['PCTFLOAN'].mean().round(3))\n",
    "\n",
    "my_pctloan(pctresults)\n"
   ]
  },
  {
   "cell_type": "code",
   "execution_count": 363,
   "metadata": {},
   "outputs": [
    {
     "data": {
      "text/plain": [
       "Text(0.5, 0, 'Median of federal loans issued in each region')"
      ]
     },
     "execution_count": 363,
     "metadata": {},
     "output_type": "execute_result"
    },
    {
     "data": {
      "image/png": "[encoded data removed]",
      "text/plain": [
       "<Figure size 432x288 with 1 Axes>"
      ]
     },
     "metadata": {
      "needs_background": "light"
     },
     "output_type": "display_data"
    }
   ],
   "source": [
    "# Average percentage of Federal loans issued\n",
    "pctresults.plot('barh')\n",
    "\n",
    "plt.autoscale(True, 'x', True)\n",
    "\n",
    "plt.ylabel('Region')\n",
    "plt.xlabel('Median of federal loans issued in each region')\n"
   ]
  },
  {
   "cell_type": "markdown",
   "metadata": {},
   "source": [
    "### Average Student Loan Debt Per Region At Separation"
   ]
  },
  {
   "cell_type": "code",
   "execution_count": 364,
   "metadata": {},
   "outputs": [
    {
     "name": "stdout",
     "output_type": "stream",
     "text": [
      "12113.96\n",
      "10636.602\n",
      "10755.455\n",
      "10718.19\n",
      "9099.361\n",
      "8007.529\n",
      "8765.781\n",
      "9401.291\n",
      "2450.574\n"
     ]
    }
   ],
   "source": [
    "def stu_debt(AllData):\n",
    "    for x in AllData:\n",
    "       print(x) \n",
    "\n",
    "sturesults = pd.Series(data=AllData.groupby(['REGION'])['AVG_LOAN_DEBT'].mean().round(3))\n",
    "\n",
    "stu_debt(sturesults)"
   ]
  },
  {
   "cell_type": "code",
   "execution_count": 365,
   "metadata": {},
   "outputs": [
    {
     "data": {
      "text/plain": [
       "Text(0, 0.5, 'Average Student Loan Debt $')"
      ]
     },
     "execution_count": 365,
     "metadata": {},
     "output_type": "execute_result"
    },
    {
     "data": {
      "image/png": "[encoded data removed]",
      "text/plain": [
       "<Figure size 432x288 with 1 Axes>"
      ]
     },
     "metadata": {
      "needs_background": "light"
     },
     "output_type": "display_data"
    }
   ],
   "source": [
    "sturesults.plot('bar')\n",
    "\n",
    "plt.autoscale(True, 'x', True)\n",
    "\n",
    "plt.xlabel('Region')\n",
    "plt.ylabel('Average Student Loan Debt $')\n"
   ]
  },
  {
   "cell_type": "code",
   "execution_count": 366,
   "metadata": {},
   "outputs": [
    {
     "name": "stdout",
     "output_type": "stream",
     "text": [
      "0.089\n",
      "0.097\n",
      "0.113\n",
      "0.1\n",
      "0.123\n",
      "0.137\n",
      "0.114\n",
      "0.108\n",
      "0.126\n"
     ]
    }
   ],
   "source": [
    "def def_rate(AllData):\n",
    "    for x in AllData:\n",
    "       print(x) \n",
    "cohort_def = pd.Series(data=AllData.groupby(['REGION'])['RPYMT_RATE_YR3'].mean().round(3))\n",
    "\n",
    "def_rate(cohort_def)"
   ]
  },
  {
   "cell_type": "code",
   "execution_count": 367,
   "metadata": {},
   "outputs": [
    {
     "name": "stdout",
     "output_type": "stream",
     "text": [
      "Opened database successfully\n"
     ]
    }
   ],
   "source": [
    "('''CREATE TABLE IF NOT EXISTS see_results (\n",
    "UNITID INT PRIMARY KEY,\n",
    "cohort_def int NOT NULL,\n",
    "sturesults int NOT NULL,\n",
    "pctresults int NOT NULL,\n",
    "results int NOT NULL\n",
    ";)''')\n",
    "\n",
    "conn.close()\n",
    "\n",
    "conn = sqlite3.connect(r'Student Loan Project')\n",
    "cursor = conn.cursor()\n",
    "print(\"Opened database successfully\")\n"
   ]
  },
  {
   "cell_type": "code",
   "execution_count": 368,
   "metadata": {},
   "outputs": [],
   "source": [
    "('''INSERT INTO IF NOT EXISTS see_results\n",
    "VALUES(0.137, 12,113, 0.543, 1778)''')\n",
    "\n",
    "conn.commit()"
   ]
  },
  {
   "cell_type": "markdown",
   "metadata": {},
   "source": [
    "## <center>Conclusion</center>\n",
    "### For each question asked in this review, the results show that three different regions answered the questions independently.  It is the conclusion from this review that the national student loan default rate is not based on the questions posed.  \n",
    "- #### Which region has the highest loan default rate? - Region 6  (0.137)\n",
    "\n",
    "- #### Which region has the highest average percentage of federal student loans issued? - Region 3  (0.543)\n",
    "\n",
    "- #### What is the average student loan debt per region at separation from the cohort? - Region 1  ($12,114)\n",
    "\n",
    "- #### Which region has the largest number of cohorts? - Region 5  (1778)\n"
   ]
  },
  {
   "cell_type": "code",
   "execution_count": 369,
   "metadata": {},
   "outputs": [
    {
     "data": {
      "image/png": "[encoded data removed]",
      "text/plain": [
       "<Figure size 1224x576 with 4 Axes>"
      ]
     },
     "metadata": {
      "needs_background": "light"
     },
     "output_type": "display_data"
    }
   ],
   "source": [
    "x = ([1, 2, 3, 4, 5, 6, 7, 8, 9])\n",
    "\n",
    "cohorty = AllData.groupby(['REGION'])['PCTFLOAN'].mean()\n",
    "pcty = AllData.groupby(['REGION'])['PCTFLOAN'].mean()\n",
    "resultsy = AllData.groupby(['REGION'])['UNITID'].count()\n",
    "stuy = AllData.groupby(['REGION'])['AVG_LOAN_DEBT'].mean()\n",
    "\n",
    "\n",
    "fig, ((cohort_def, pctresults), (results, sturesults)) = plt.subplots(\n",
    "    ncols=2,\n",
    "    nrows=2,\n",
    "    sharex='all',\n",
    "    figsize=(17, 8))\n",
    "\n",
    "fig.suptitle('Results of Review on The National Student Loan Defaults')\n",
    "\n",
    "\n",
    "cohort_def.bar(x, cohorty)\n",
    "cohort_def.title.set_text('Avg Cohort Default Rate')\n",
    "\n",
    "pctresults.bar(x, pcty)\n",
    "pctresults.title.set_text('Avg Percentage Of Loans Issued')\n",
    "\n",
    "sturesults.bar(x, (stuy))\n",
    "sturesults.title.set_text('Avg Student Loan Debt On Separation')\n",
    "\n",
    "results.scatter(x, (resultsy), color=\"red\", linestyle = ':')\n",
    "results.title.set_text('Number Of Cohorts Per Region')\n",
    "\n",
    "\n",
    "plt.xticks(np.arange(min(x), max(x)+1, 1.0))\n",
    "\n",
    "\n",
    "plt.show()"
   ]
  },
  {
   "cell_type": "code",
   "execution_count": null,
   "metadata": {},
   "outputs": [],
   "source": []
  }
 ],
 "metadata": {
  "kernelspec": {
   "display_name": "Python 3",
   "language": "python",
   "name": "python3"
  },
  "language_info": {
   "codemirror_mode": {
    "name": "ipython",
    "version": 3
   },
   "file_extension": ".py",
   "mimetype": "text/x-python",
   "name": "python",
   "nbconvert_exporter": "python",
   "pygments_lexer": "ipython3",
   "version": "3.7.3"
  }
 },
 "nbformat": 4,
 "nbformat_minor": 2
}
